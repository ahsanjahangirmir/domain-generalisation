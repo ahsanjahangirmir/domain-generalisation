{
  "cells": [
    {
      "cell_type": "markdown",
      "metadata": {
        "id": "R45xHjaw4zXR"
      },
      "source": [
        "Task 3 - Evaluation for Domain Generalization - PACS Dataset"
      ]
    },
    {
      "cell_type": "markdown",
      "metadata": {
        "id": "jxwwb90c4zXS"
      },
      "source": [
        "Making All the required Imports"
      ]
    },
    {
      "cell_type": "code",
      "execution_count": 3,
      "metadata": {
        "id": "hvUsk87C4zXT"
      },
      "outputs": [],
      "source": [
        "import torch\n",
        "import torch.nn as nn\n",
        "import torch.optim as optim\n",
        "import torchvision.transforms as transforms\n",
        "from torch.utils.data import DataLoader, Dataset\n",
        "from tqdm import tqdm\n",
        "import deeplake\n",
        "import os\n",
        "from PIL import Image\n",
        "import torchvision.models as models"
      ]
    },
    {
      "cell_type": "markdown",
      "metadata": {
        "id": "5MumP8Dt4zXU"
      },
      "source": [
        "Loading In the VGG Disciminative Model and Moving it to the GPU if Available"
      ]
    },
    {
      "cell_type": "code",
      "execution_count": 12,
      "metadata": {
        "colab": {
          "base_uri": "https://localhost:8080/"
        },
        "id": "CwUL4WAP4zXU",
        "outputId": "29caa45d-514e-4116-caba-a89f1d7b54aa"
      },
      "outputs": [
        {
          "name": "stderr",
          "output_type": "stream",
          "text": [
            "/usr/local/lib/python3.10/dist-packages/torchvision/models/_utils.py:208: UserWarning: The parameter 'pretrained' is deprecated since 0.13 and may be removed in the future, please use 'weights' instead.\n",
            "  warnings.warn(\n",
            "/usr/local/lib/python3.10/dist-packages/torchvision/models/_utils.py:223: UserWarning: Arguments other than a weight enum or `None` for 'weights' are deprecated since 0.13 and may be removed in the future. The current behavior is equivalent to passing `weights=VGG19_Weights.IMAGENET1K_V1`. You can also use `weights=VGG19_Weights.DEFAULT` to get the most up-to-date weights.\n",
            "  warnings.warn(msg)\n"
          ]
        }
      ],
      "source": [
        "device = torch.device('cuda' if torch.cuda.is_available() else 'cpu')\n",
        "model = models.vgg19(pretrained=True)"
      ]
    },
    {
      "cell_type": "markdown",
      "metadata": {
        "id": "UDGmuUgB4zXU"
      },
      "source": [
        "Getting The VGG Pretraind Model Ready for training.\n",
        "\n",
        "This step includes freezing all parameters in the feature extractor and replacing the classifier head with a new head based on the number of classes our dataset has which is 7. We then define loss function and optimizer as."
      ]
    },
    {
      "cell_type": "code",
      "execution_count": 13,
      "metadata": {
        "id": "9nxbsIX44zXV"
      },
      "outputs": [],
      "source": [
        "for param in model.features.parameters():\n",
        "    param.requires_grad = False  \n",
        "\n",
        "num_ftrs = model.classifier[6].in_features\n",
        "model.classifier[6] = nn.Linear(num_ftrs, 7)  \n",
        "\n",
        "model.to(device)\n",
        "\n",
        "criterion = nn.CrossEntropyLoss()\n",
        "optimizer = optim.Adam(model.classifier[6].parameters(), lr=0.001) "
      ]
    },
    {
      "cell_type": "markdown",
      "metadata": {
        "id": "x_bqVPqY4zXV"
      },
      "source": [
        "Loading In The PACS Dataset"
      ]
    },
    {
      "cell_type": "markdown",
      "metadata": {
        "id": "6lSba0NT4zXV"
      },
      "source": [
        "Defining our Custom Dataset Wrapper Class to convert Deep Lake tensors into pytorch tensors"
      ]
    },
    {
      "cell_type": "code",
      "execution_count": 14,
      "metadata": {
        "id": "IUEyXGo04zXV"
      },
      "outputs": [],
      "source": [
        "class PACSDataset(Dataset):\n",
        "    def __init__(self, deeplake_dataset, transform=None):\n",
        "        self.ds = deeplake_dataset\n",
        "        self.transform = transform\n",
        "\n",
        "    def __len__(self):\n",
        "        return len(self.ds)\n",
        "\n",
        "    def __getitem__(self, idx):\n",
        "        image = self.ds['images'][idx].numpy() \n",
        "        label = int(self.ds['labels'][idx].numpy()) \n",
        "\n",
        "        image = Image.fromarray(image)\n",
        "        if self.transform:\n",
        "            image = self.transform(image)\n",
        "\n",
        "        return image, label"
      ]
    },
    {
      "cell_type": "markdown",
      "metadata": {
        "id": "lNvS4Y774zXW"
      },
      "source": [
        "Load in PACS DATA set using Deep Lake and define the train and validation dataset"
      ]
    },
    {
      "cell_type": "code",
      "execution_count": 15,
      "metadata": {
        "colab": {
          "base_uri": "https://localhost:8080/"
        },
        "id": "jlnCg5yQ4zXW",
        "outputId": "8fdb4b8d-64b8-4bc5-dccf-1165e8d28d31"
      },
      "outputs": [
        {
          "name": "stderr",
          "output_type": "stream",
          "text": [
            "-"
          ]
        },
        {
          "name": "stdout",
          "output_type": "stream",
          "text": [
            "Opening dataset in read-only mode as you don't have write permissions.\n"
          ]
        },
        {
          "name": "stderr",
          "output_type": "stream",
          "text": [
            "\\"
          ]
        },
        {
          "name": "stdout",
          "output_type": "stream",
          "text": [
            "This dataset can be visualized in Jupyter Notebook by ds.visualize() or at https://app.activeloop.ai/activeloop/pacs-train\n",
            "\n"
          ]
        },
        {
          "name": "stderr",
          "output_type": "stream",
          "text": [
            "-"
          ]
        },
        {
          "name": "stdout",
          "output_type": "stream",
          "text": [
            "hub://activeloop/pacs-train loaded successfully.\n",
            "\n"
          ]
        },
        {
          "name": "stderr",
          "output_type": "stream",
          "text": []
        },
        {
          "name": "stdout",
          "output_type": "stream",
          "text": [
            "Opening dataset in read-only mode as you don't have write permissions.\n"
          ]
        },
        {
          "name": "stderr",
          "output_type": "stream",
          "text": [
            "|"
          ]
        },
        {
          "name": "stdout",
          "output_type": "stream",
          "text": [
            "This dataset can be visualized in Jupyter Notebook by ds.visualize() or at https://app.activeloop.ai/activeloop/pacs-val\n",
            "\n"
          ]
        },
        {
          "name": "stderr",
          "output_type": "stream",
          "text": []
        },
        {
          "name": "stdout",
          "output_type": "stream",
          "text": [
            "hub://activeloop/pacs-val loaded successfully.\n",
            "\n"
          ]
        },
        {
          "name": "stderr",
          "output_type": "stream",
          "text": [
            "\r\r"
          ]
        }
      ],
      "source": [
        "train_dataset = deeplake.load(\"hub://activeloop/pacs-train\")\n",
        "val_dataset = deeplake.load(\"hub://activeloop/pacs-val\")"
      ]
    },
    {
      "cell_type": "markdown",
      "metadata": {
        "id": "1pyoRpHg4zXX"
      },
      "source": [
        "Define Image Transformations. These Image Transformations are passed along with train dataset to our PACSDataset Wrapper. Once Passed A series of transformations are applied to the images, along with converting the deeplake tensors into the corrected workable format that we need.\n",
        "\n",
        "We also get the trainloader which essentially splits train_dataset into batches or chunks. This can be helpful in making the model train more faster and smoother"
      ]
    },
    {
      "cell_type": "code",
      "execution_count": 16,
      "metadata": {
        "id": "OmcLIvTq4zXX"
      },
      "outputs": [],
      "source": [
        "transform = transforms.Compose([\n",
        "    transforms.Resize((224, 224)),\n",
        "    transforms.ToTensor(),\n",
        "    transforms.Normalize(mean=[0.485, 0.456, 0.406], std=[0.229, 0.224, 0.225]),\n",
        "])\n",
        "\n",
        "train_dataset = PACSDataset(train_dataset, transform=transform)\n",
        "\n",
        "trainloader = DataLoader(train_dataset, batch_size=4, shuffle=True,num_workers=4)"
      ]
    },
    {
      "cell_type": "markdown",
      "metadata": {
        "id": "FC1B8EVM4zXX"
      },
      "source": [
        "This portion will now is now finetuning the VGG model. Essentially we will be doing a forward pass, calculating the loss and then updating the weights in the backward pass. This is done for the complete dataset for 3 Epochs. After the model is trained we save it so if we require it later we can easily load it in.\n"
      ]
    },
    {
      "cell_type": "code",
      "execution_count": 17,
      "metadata": {
        "colab": {
          "base_uri": "https://localhost:8080/"
        },
        "id": "S0Gnd7kr4zXX",
        "outputId": "bfe84cd9-9ad2-4c1b-e4de-ddc560881cb6"
      },
      "outputs": [
        {
          "name": "stderr",
          "output_type": "stream",
          "text": [
            "\rEpoch 1/3:   0%|          | 0/2245 [00:00<?, ?batch/s]<ipython-input-14-caa64f65a0af>:13: DeprecationWarning: Conversion of an array with ndim > 0 to a scalar is deprecated, and will error in future. Ensure you extract a single element from your array before performing this operation. (Deprecated NumPy 1.25.)\n",
            "  label = int(self.ds['labels'][idx].numpy())  # Convert label to int\n",
            "<ipython-input-14-caa64f65a0af>:13: DeprecationWarning: Conversion of an array with ndim > 0 to a scalar is deprecated, and will error in future. Ensure you extract a single element from your array before performing this operation. (Deprecated NumPy 1.25.)\n",
            "  label = int(self.ds['labels'][idx].numpy())  # Convert label to int\n",
            "<ipython-input-14-caa64f65a0af>:13: DeprecationWarning: Conversion of an array with ndim > 0 to a scalar is deprecated, and will error in future. Ensure you extract a single element from your array before performing this operation. (Deprecated NumPy 1.25.)\n",
            "  label = int(self.ds['labels'][idx].numpy())  # Convert label to int\n",
            "<ipython-input-14-caa64f65a0af>:13: DeprecationWarning: Conversion of an array with ndim > 0 to a scalar is deprecated, and will error in future. Ensure you extract a single element from your array before performing this operation. (Deprecated NumPy 1.25.)\n",
            "  label = int(self.ds['labels'][idx].numpy())  # Convert label to int\n",
            "Epoch 1/3:   4%|▍         | 100/2245 [06:36<2:26:30,  4.10s/batch, loss=1.39]"
          ]
        },
        {
          "name": "stdout",
          "output_type": "stream",
          "text": [
            "Epoch [1], Step [100], Loss: 1.3932\n"
          ]
        },
        {
          "name": "stderr",
          "output_type": "stream",
          "text": [
            "Epoch 1/3:   9%|▉         | 200/2245 [13:12<2:14:48,  3.96s/batch, loss=1.21]"
          ]
        },
        {
          "name": "stdout",
          "output_type": "stream",
          "text": [
            "Epoch [1], Step [200], Loss: 1.2132\n"
          ]
        },
        {
          "name": "stderr",
          "output_type": "stream",
          "text": [
            "Epoch 1/3:  13%|█▎        | 300/2245 [19:45<2:03:44,  3.82s/batch, loss=1.11]"
          ]
        },
        {
          "name": "stdout",
          "output_type": "stream",
          "text": [
            "Epoch [1], Step [300], Loss: 1.1062\n"
          ]
        },
        {
          "name": "stderr",
          "output_type": "stream",
          "text": [
            "Epoch 1/3:  18%|█▊        | 400/2245 [26:22<1:57:55,  3.84s/batch, loss=1.07]"
          ]
        },
        {
          "name": "stdout",
          "output_type": "stream",
          "text": [
            "Epoch [1], Step [400], Loss: 1.0674\n"
          ]
        },
        {
          "name": "stderr",
          "output_type": "stream",
          "text": [
            "Epoch 1/3:  22%|██▏       | 500/2245 [32:56<1:59:31,  4.11s/batch, loss=1.06]"
          ]
        },
        {
          "name": "stdout",
          "output_type": "stream",
          "text": [
            "Epoch [1], Step [500], Loss: 1.0552\n"
          ]
        },
        {
          "name": "stderr",
          "output_type": "stream",
          "text": [
            "Epoch 1/3:  27%|██▋       | 600/2245 [39:29<1:52:41,  4.11s/batch, loss=1.04]"
          ]
        },
        {
          "name": "stdout",
          "output_type": "stream",
          "text": [
            "Epoch [1], Step [600], Loss: 1.0387\n"
          ]
        },
        {
          "name": "stderr",
          "output_type": "stream",
          "text": [
            "Epoch 1/3:  31%|███       | 700/2245 [46:01<1:42:53,  4.00s/batch, loss=1]"
          ]
        },
        {
          "name": "stdout",
          "output_type": "stream",
          "text": [
            "Epoch [1], Step [700], Loss: 1.0035\n"
          ]
        },
        {
          "name": "stderr",
          "output_type": "stream",
          "text": [
            "Epoch 1/3:  36%|███▌      | 800/2245 [52:34<1:35:39,  3.97s/batch, loss=0.989]"
          ]
        },
        {
          "name": "stdout",
          "output_type": "stream",
          "text": [
            "Epoch [1], Step [800], Loss: 0.9892\n"
          ]
        },
        {
          "name": "stderr",
          "output_type": "stream",
          "text": [
            "Epoch 1/3:  40%|████      | 900/2245 [59:08<1:27:56,  3.92s/batch, loss=0.971]"
          ]
        },
        {
          "name": "stdout",
          "output_type": "stream",
          "text": [
            "Epoch [1], Step [900], Loss: 0.9707\n"
          ]
        },
        {
          "name": "stderr",
          "output_type": "stream",
          "text": [
            "Epoch 1/3:  45%|████▍     | 1000/2245 [1:05:41<1:21:02,  3.91s/batch, loss=0.965]"
          ]
        },
        {
          "name": "stdout",
          "output_type": "stream",
          "text": [
            "Epoch [1], Step [1000], Loss: 0.9653\n"
          ]
        },
        {
          "name": "stderr",
          "output_type": "stream",
          "text": [
            "Epoch 1/3:  49%|████▉     | 1100/2245 [1:12:14<1:14:35,  3.91s/batch, loss=0.948]"
          ]
        },
        {
          "name": "stdout",
          "output_type": "stream",
          "text": [
            "Epoch [1], Step [1100], Loss: 0.9482\n"
          ]
        },
        {
          "name": "stderr",
          "output_type": "stream",
          "text": [
            "Epoch 1/3:  53%|█████▎    | 1200/2245 [1:18:47<1:07:16,  3.86s/batch, loss=0.941]"
          ]
        },
        {
          "name": "stdout",
          "output_type": "stream",
          "text": [
            "Epoch [1], Step [1200], Loss: 0.9410\n"
          ]
        },
        {
          "name": "stderr",
          "output_type": "stream",
          "text": [
            "Epoch 1/3:  58%|█████▊    | 1300/2245 [1:25:19<1:00:04,  3.81s/batch, loss=0.938]"
          ]
        },
        {
          "name": "stdout",
          "output_type": "stream",
          "text": [
            "Epoch [1], Step [1300], Loss: 0.9384\n"
          ]
        },
        {
          "name": "stderr",
          "output_type": "stream",
          "text": [
            "Epoch 1/3:  62%|██████▏   | 1400/2245 [1:31:51<53:33,  3.80s/batch, loss=0.935]"
          ]
        },
        {
          "name": "stdout",
          "output_type": "stream",
          "text": [
            "Epoch [1], Step [1400], Loss: 0.9349\n"
          ]
        },
        {
          "name": "stderr",
          "output_type": "stream",
          "text": [
            "Epoch 1/3:  67%|██████▋   | 1500/2245 [1:38:24<47:22,  3.81s/batch, loss=0.938]"
          ]
        },
        {
          "name": "stdout",
          "output_type": "stream",
          "text": [
            "Epoch [1], Step [1500], Loss: 0.9383\n"
          ]
        },
        {
          "name": "stderr",
          "output_type": "stream",
          "text": [
            "Epoch 1/3:  71%|███████▏  | 1600/2245 [1:44:58<40:29,  3.77s/batch, loss=0.932]"
          ]
        },
        {
          "name": "stdout",
          "output_type": "stream",
          "text": [
            "Epoch [1], Step [1600], Loss: 0.9322\n"
          ]
        },
        {
          "name": "stderr",
          "output_type": "stream",
          "text": [
            "Epoch 1/3:  76%|███████▌  | 1700/2245 [1:51:33<34:07,  3.76s/batch, loss=0.926]"
          ]
        },
        {
          "name": "stdout",
          "output_type": "stream",
          "text": [
            "Epoch [1], Step [1700], Loss: 0.9260\n"
          ]
        },
        {
          "name": "stderr",
          "output_type": "stream",
          "text": [
            "Epoch 1/3:  80%|████████  | 1800/2245 [1:58:05<27:51,  3.76s/batch, loss=0.922]"
          ]
        },
        {
          "name": "stdout",
          "output_type": "stream",
          "text": [
            "Epoch [1], Step [1800], Loss: 0.9217\n"
          ]
        },
        {
          "name": "stderr",
          "output_type": "stream",
          "text": [
            "Epoch 1/3:  85%|████████▍ | 1900/2245 [2:04:40<21:11,  3.69s/batch, loss=0.922]"
          ]
        },
        {
          "name": "stdout",
          "output_type": "stream",
          "text": [
            "Epoch [1], Step [1900], Loss: 0.9220\n"
          ]
        },
        {
          "name": "stderr",
          "output_type": "stream",
          "text": [
            "Epoch 1/3:  89%|████████▉ | 2000/2245 [2:11:13<15:14,  3.73s/batch, loss=0.91]"
          ]
        },
        {
          "name": "stdout",
          "output_type": "stream",
          "text": [
            "Epoch [1], Step [2000], Loss: 0.9099\n"
          ]
        },
        {
          "name": "stderr",
          "output_type": "stream",
          "text": [
            "Epoch 1/3:  94%|█████████▎| 2100/2245 [2:17:47<09:24,  3.89s/batch, loss=0.914]"
          ]
        },
        {
          "name": "stdout",
          "output_type": "stream",
          "text": [
            "Epoch [1], Step [2100], Loss: 0.9143\n"
          ]
        },
        {
          "name": "stderr",
          "output_type": "stream",
          "text": [
            "Epoch 1/3:  98%|█████████▊| 2200/2245 [2:24:25<03:02,  4.07s/batch, loss=0.914]"
          ]
        },
        {
          "name": "stdout",
          "output_type": "stream",
          "text": [
            "Epoch [1], Step [2200], Loss: 0.9139\n"
          ]
        },
        {
          "name": "stderr",
          "output_type": "stream",
          "text": [
            "Epoch 1/3: 100%|██████████| 2245/2245 [2:27:18<00:00,  3.94s/batch, loss=0.917]\n",
            "Epoch 2/3:   0%|          | 0/2245 [00:00<?, ?batch/s]<ipython-input-14-caa64f65a0af>:13: DeprecationWarning: Conversion of an array with ndim > 0 to a scalar is deprecated, and will error in future. Ensure you extract a single element from your array before performing this operation. (Deprecated NumPy 1.25.)\n",
            "  label = int(self.ds['labels'][idx].numpy())  # Convert label to int\n",
            "<ipython-input-14-caa64f65a0af>:13: DeprecationWarning: Conversion of an array with ndim > 0 to a scalar is deprecated, and will error in future. Ensure you extract a single element from your array before performing this operation. (Deprecated NumPy 1.25.)\n",
            "  label = int(self.ds['labels'][idx].numpy())  # Convert label to int\n",
            "<ipython-input-14-caa64f65a0af>:13: DeprecationWarning: Conversion of an array with ndim > 0 to a scalar is deprecated, and will error in future. Ensure you extract a single element from your array before performing this operation. (Deprecated NumPy 1.25.)\n",
            "  label = int(self.ds['labels'][idx].numpy())  # Convert label to int\n",
            "<ipython-input-14-caa64f65a0af>:13: DeprecationWarning: Conversion of an array with ndim > 0 to a scalar is deprecated, and will error in future. Ensure you extract a single element from your array before performing this operation. (Deprecated NumPy 1.25.)\n",
            "  label = int(self.ds['labels'][idx].numpy())  # Convert label to int\n",
            "Epoch 2/3:   4%|▍         | 100/2245 [06:33<2:15:17,  3.78s/batch, loss=0.842]"
          ]
        },
        {
          "name": "stdout",
          "output_type": "stream",
          "text": [
            "Epoch [2], Step [100], Loss: 0.8422\n"
          ]
        },
        {
          "name": "stderr",
          "output_type": "stream",
          "text": [
            "Epoch 2/3:   9%|▉         | 200/2245 [13:04<2:09:29,  3.80s/batch, loss=0.758]"
          ]
        },
        {
          "name": "stdout",
          "output_type": "stream",
          "text": [
            "Epoch [2], Step [200], Loss: 0.7577\n"
          ]
        },
        {
          "name": "stderr",
          "output_type": "stream",
          "text": [
            "Epoch 2/3:  13%|█▎        | 300/2245 [19:35<2:04:24,  3.84s/batch, loss=0.797]"
          ]
        },
        {
          "name": "stdout",
          "output_type": "stream",
          "text": [
            "Epoch [2], Step [300], Loss: 0.7971\n"
          ]
        },
        {
          "name": "stderr",
          "output_type": "stream",
          "text": [
            "Epoch 2/3:  18%|█▊        | 400/2245 [26:06<2:00:13,  3.91s/batch, loss=0.843]"
          ]
        },
        {
          "name": "stdout",
          "output_type": "stream",
          "text": [
            "Epoch [2], Step [400], Loss: 0.8425\n"
          ]
        },
        {
          "name": "stderr",
          "output_type": "stream",
          "text": [
            "Epoch 2/3:  22%|██▏       | 500/2245 [32:36<1:55:23,  3.97s/batch, loss=0.836]"
          ]
        },
        {
          "name": "stdout",
          "output_type": "stream",
          "text": [
            "Epoch [2], Step [500], Loss: 0.8359\n"
          ]
        },
        {
          "name": "stderr",
          "output_type": "stream",
          "text": [
            "Epoch 2/3:  27%|██▋       | 600/2245 [39:07<1:55:36,  4.22s/batch, loss=0.843]"
          ]
        },
        {
          "name": "stdout",
          "output_type": "stream",
          "text": [
            "Epoch [2], Step [600], Loss: 0.8427\n"
          ]
        },
        {
          "name": "stderr",
          "output_type": "stream",
          "text": [
            "Epoch 2/3:  31%|███       | 700/2245 [45:37<1:43:01,  4.00s/batch, loss=0.838]"
          ]
        },
        {
          "name": "stdout",
          "output_type": "stream",
          "text": [
            "Epoch [2], Step [700], Loss: 0.8383\n"
          ]
        },
        {
          "name": "stderr",
          "output_type": "stream",
          "text": [
            "Epoch 2/3:  36%|███▌      | 800/2245 [52:10<1:39:10,  4.12s/batch, loss=0.853]"
          ]
        },
        {
          "name": "stdout",
          "output_type": "stream",
          "text": [
            "Epoch [2], Step [800], Loss: 0.8525\n"
          ]
        },
        {
          "name": "stderr",
          "output_type": "stream",
          "text": [
            "Epoch 2/3:  40%|████      | 900/2245 [58:41<1:34:26,  4.21s/batch, loss=0.864]"
          ]
        },
        {
          "name": "stdout",
          "output_type": "stream",
          "text": [
            "Epoch [2], Step [900], Loss: 0.8642\n"
          ]
        },
        {
          "name": "stderr",
          "output_type": "stream",
          "text": [
            "Epoch 2/3:  45%|████▍     | 1000/2245 [1:05:12<1:27:18,  4.21s/batch, loss=0.862]"
          ]
        },
        {
          "name": "stdout",
          "output_type": "stream",
          "text": [
            "Epoch [2], Step [1000], Loss: 0.8625\n"
          ]
        },
        {
          "name": "stderr",
          "output_type": "stream",
          "text": [
            "Epoch 2/3:  49%|████▉     | 1100/2245 [1:11:44<1:19:29,  4.17s/batch, loss=0.883]"
          ]
        },
        {
          "name": "stdout",
          "output_type": "stream",
          "text": [
            "Epoch [2], Step [1100], Loss: 0.8826\n"
          ]
        },
        {
          "name": "stderr",
          "output_type": "stream",
          "text": [
            "Epoch 2/3:  53%|█████▎    | 1200/2245 [1:18:15<1:12:10,  4.14s/batch, loss=0.876]"
          ]
        },
        {
          "name": "stdout",
          "output_type": "stream",
          "text": [
            "Epoch [2], Step [1200], Loss: 0.8758\n"
          ]
        },
        {
          "name": "stderr",
          "output_type": "stream",
          "text": [
            "Epoch 2/3:  58%|█████▊    | 1300/2245 [1:24:46<1:04:52,  4.12s/batch, loss=0.887]"
          ]
        },
        {
          "name": "stdout",
          "output_type": "stream",
          "text": [
            "Epoch [2], Step [1300], Loss: 0.8869\n"
          ]
        },
        {
          "name": "stderr",
          "output_type": "stream",
          "text": [
            "Epoch 2/3:  62%|██████▏   | 1400/2245 [1:31:17<57:36,  4.09s/batch, loss=0.884]"
          ]
        },
        {
          "name": "stdout",
          "output_type": "stream",
          "text": [
            "Epoch [2], Step [1400], Loss: 0.8844\n"
          ]
        },
        {
          "name": "stderr",
          "output_type": "stream",
          "text": [
            "Epoch 2/3:  67%|██████▋   | 1500/2245 [1:37:50<50:30,  4.07s/batch, loss=0.876]"
          ]
        },
        {
          "name": "stdout",
          "output_type": "stream",
          "text": [
            "Epoch [2], Step [1500], Loss: 0.8762\n"
          ]
        },
        {
          "name": "stderr",
          "output_type": "stream",
          "text": [
            "Epoch 2/3:  71%|███████▏  | 1600/2245 [1:44:24<42:39,  3.97s/batch, loss=0.882]"
          ]
        },
        {
          "name": "stdout",
          "output_type": "stream",
          "text": [
            "Epoch [2], Step [1600], Loss: 0.8825\n"
          ]
        },
        {
          "name": "stderr",
          "output_type": "stream",
          "text": [
            "Epoch 2/3:  76%|███████▌  | 1700/2245 [1:50:56<36:25,  4.01s/batch, loss=0.89]"
          ]
        },
        {
          "name": "stdout",
          "output_type": "stream",
          "text": [
            "Epoch [2], Step [1700], Loss: 0.8895\n"
          ]
        },
        {
          "name": "stderr",
          "output_type": "stream",
          "text": [
            "Epoch 2/3:  80%|████████  | 1800/2245 [1:57:27<30:29,  4.11s/batch, loss=0.887]"
          ]
        },
        {
          "name": "stdout",
          "output_type": "stream",
          "text": [
            "Epoch [2], Step [1800], Loss: 0.8867\n"
          ]
        },
        {
          "name": "stderr",
          "output_type": "stream",
          "text": [
            "Epoch 2/3:  85%|████████▍ | 1900/2245 [2:03:57<23:32,  4.10s/batch, loss=0.891]"
          ]
        },
        {
          "name": "stdout",
          "output_type": "stream",
          "text": [
            "Epoch [2], Step [1900], Loss: 0.8907\n"
          ]
        },
        {
          "name": "stderr",
          "output_type": "stream",
          "text": [
            "Epoch 2/3:  89%|████████▉ | 2000/2245 [2:10:27<15:38,  3.83s/batch, loss=0.894]"
          ]
        },
        {
          "name": "stdout",
          "output_type": "stream",
          "text": [
            "Epoch [2], Step [2000], Loss: 0.8942\n"
          ]
        },
        {
          "name": "stderr",
          "output_type": "stream",
          "text": [
            "Epoch 2/3:  94%|█████████▎| 2100/2245 [2:17:05<10:21,  4.29s/batch, loss=0.905]"
          ]
        },
        {
          "name": "stdout",
          "output_type": "stream",
          "text": [
            "Epoch [2], Step [2100], Loss: 0.9050\n"
          ]
        },
        {
          "name": "stderr",
          "output_type": "stream",
          "text": [
            "Epoch 2/3:  98%|█████████▊| 2200/2245 [2:23:48<02:55,  3.90s/batch, loss=0.903]"
          ]
        },
        {
          "name": "stdout",
          "output_type": "stream",
          "text": [
            "Epoch [2], Step [2200], Loss: 0.9035\n"
          ]
        },
        {
          "name": "stderr",
          "output_type": "stream",
          "text": [
            "Epoch 2/3: 100%|██████████| 2245/2245 [2:26:49<00:00,  3.92s/batch, loss=0.905]\n",
            "Epoch 3/3:   0%|          | 0/2245 [00:00<?, ?batch/s]<ipython-input-14-caa64f65a0af>:13: DeprecationWarning: Conversion of an array with ndim > 0 to a scalar is deprecated, and will error in future. Ensure you extract a single element from your array before performing this operation. (Deprecated NumPy 1.25.)\n",
            "  label = int(self.ds['labels'][idx].numpy())  # Convert label to int\n",
            "<ipython-input-14-caa64f65a0af>:13: DeprecationWarning: Conversion of an array with ndim > 0 to a scalar is deprecated, and will error in future. Ensure you extract a single element from your array before performing this operation. (Deprecated NumPy 1.25.)\n",
            "  label = int(self.ds['labels'][idx].numpy())  # Convert label to int\n",
            "<ipython-input-14-caa64f65a0af>:13: DeprecationWarning: Conversion of an array with ndim > 0 to a scalar is deprecated, and will error in future. Ensure you extract a single element from your array before performing this operation. (Deprecated NumPy 1.25.)\n",
            "  label = int(self.ds['labels'][idx].numpy())  # Convert label to int\n",
            "<ipython-input-14-caa64f65a0af>:13: DeprecationWarning: Conversion of an array with ndim > 0 to a scalar is deprecated, and will error in future. Ensure you extract a single element from your array before performing this operation. (Deprecated NumPy 1.25.)\n",
            "  label = int(self.ds['labels'][idx].numpy())  # Convert label to int\n",
            "Epoch 3/3:   4%|▍         | 100/2245 [06:52<2:20:29,  3.93s/batch, loss=0.845]"
          ]
        },
        {
          "name": "stdout",
          "output_type": "stream",
          "text": [
            "Epoch [3], Step [100], Loss: 0.8453\n"
          ]
        },
        {
          "name": "stderr",
          "output_type": "stream",
          "text": [
            "Epoch 3/3:   9%|▉         | 200/2245 [13:28<2:15:46,  3.98s/batch, loss=0.844]"
          ]
        },
        {
          "name": "stdout",
          "output_type": "stream",
          "text": [
            "Epoch [3], Step [200], Loss: 0.8435\n"
          ]
        },
        {
          "name": "stderr",
          "output_type": "stream",
          "text": [
            "Epoch 3/3:  13%|█▎        | 300/2245 [20:03<2:05:08,  3.86s/batch, loss=0.836]"
          ]
        },
        {
          "name": "stdout",
          "output_type": "stream",
          "text": [
            "Epoch [3], Step [300], Loss: 0.8355\n"
          ]
        },
        {
          "name": "stderr",
          "output_type": "stream",
          "text": [
            "Epoch 3/3:  18%|█▊        | 400/2245 [26:35<2:03:47,  4.03s/batch, loss=0.851]"
          ]
        },
        {
          "name": "stdout",
          "output_type": "stream",
          "text": [
            "Epoch [3], Step [400], Loss: 0.8506\n"
          ]
        },
        {
          "name": "stderr",
          "output_type": "stream",
          "text": [
            "Epoch 3/3:  22%|██▏       | 500/2245 [33:07<2:00:16,  4.14s/batch, loss=0.868]"
          ]
        },
        {
          "name": "stdout",
          "output_type": "stream",
          "text": [
            "Epoch [3], Step [500], Loss: 0.8679\n"
          ]
        },
        {
          "name": "stderr",
          "output_type": "stream",
          "text": [
            "Epoch 3/3:  27%|██▋       | 600/2245 [39:39<1:54:06,  4.16s/batch, loss=0.855]"
          ]
        },
        {
          "name": "stdout",
          "output_type": "stream",
          "text": [
            "Epoch [3], Step [600], Loss: 0.8547\n"
          ]
        },
        {
          "name": "stderr",
          "output_type": "stream",
          "text": [
            "Epoch 3/3:  31%|███       | 700/2245 [46:12<1:43:09,  4.01s/batch, loss=0.867]"
          ]
        },
        {
          "name": "stdout",
          "output_type": "stream",
          "text": [
            "Epoch [3], Step [700], Loss: 0.8672\n"
          ]
        },
        {
          "name": "stderr",
          "output_type": "stream",
          "text": [
            "Epoch 3/3:  36%|███▌      | 800/2245 [52:44<1:35:59,  3.99s/batch, loss=0.848]"
          ]
        },
        {
          "name": "stdout",
          "output_type": "stream",
          "text": [
            "Epoch [3], Step [800], Loss: 0.8484\n"
          ]
        },
        {
          "name": "stderr",
          "output_type": "stream",
          "text": [
            "Epoch 3/3:  40%|████      | 900/2245 [59:15<1:27:51,  3.92s/batch, loss=0.855]"
          ]
        },
        {
          "name": "stdout",
          "output_type": "stream",
          "text": [
            "Epoch [3], Step [900], Loss: 0.8554\n"
          ]
        },
        {
          "name": "stderr",
          "output_type": "stream",
          "text": [
            "Epoch 3/3:  45%|████▍     | 1000/2245 [1:05:47<1:20:26,  3.88s/batch, loss=0.864]"
          ]
        },
        {
          "name": "stdout",
          "output_type": "stream",
          "text": [
            "Epoch [3], Step [1000], Loss: 0.8637\n"
          ]
        },
        {
          "name": "stderr",
          "output_type": "stream",
          "text": [
            "Epoch 3/3:  49%|████▉     | 1100/2245 [1:12:19<1:15:07,  3.94s/batch, loss=0.86]"
          ]
        },
        {
          "name": "stdout",
          "output_type": "stream",
          "text": [
            "Epoch [3], Step [1100], Loss: 0.8598\n"
          ]
        },
        {
          "name": "stderr",
          "output_type": "stream",
          "text": [
            "Epoch 3/3:  53%|█████▎    | 1200/2245 [1:18:52<1:09:01,  3.96s/batch, loss=0.859]"
          ]
        },
        {
          "name": "stdout",
          "output_type": "stream",
          "text": [
            "Epoch [3], Step [1200], Loss: 0.8589\n"
          ]
        },
        {
          "name": "stderr",
          "output_type": "stream",
          "text": [
            "Epoch 3/3:  58%|█████▊    | 1300/2245 [1:25:23<1:03:41,  4.04s/batch, loss=0.868]"
          ]
        },
        {
          "name": "stdout",
          "output_type": "stream",
          "text": [
            "Epoch [3], Step [1300], Loss: 0.8679\n"
          ]
        },
        {
          "name": "stderr",
          "output_type": "stream",
          "text": [
            "Epoch 3/3:  62%|██████▏   | 1400/2245 [1:31:54<59:20,  4.21s/batch, loss=0.872]"
          ]
        },
        {
          "name": "stdout",
          "output_type": "stream",
          "text": [
            "Epoch [3], Step [1400], Loss: 0.8723\n"
          ]
        },
        {
          "name": "stderr",
          "output_type": "stream",
          "text": [
            "Epoch 3/3:  67%|██████▋   | 1500/2245 [1:38:23<50:19,  4.05s/batch, loss=0.877]"
          ]
        },
        {
          "name": "stdout",
          "output_type": "stream",
          "text": [
            "Epoch [3], Step [1500], Loss: 0.8767\n"
          ]
        },
        {
          "name": "stderr",
          "output_type": "stream",
          "text": [
            "Epoch 3/3:  71%|███████▏  | 1600/2245 [1:44:54<40:57,  3.81s/batch, loss=0.871]"
          ]
        },
        {
          "name": "stdout",
          "output_type": "stream",
          "text": [
            "Epoch [3], Step [1600], Loss: 0.8708\n"
          ]
        },
        {
          "name": "stderr",
          "output_type": "stream",
          "text": [
            "Epoch 3/3:  76%|███████▌  | 1700/2245 [1:51:23<33:43,  3.71s/batch, loss=0.87]"
          ]
        },
        {
          "name": "stdout",
          "output_type": "stream",
          "text": [
            "Epoch [3], Step [1700], Loss: 0.8704\n"
          ]
        },
        {
          "name": "stderr",
          "output_type": "stream",
          "text": [
            "Epoch 3/3:  80%|████████  | 1800/2245 [1:57:54<28:01,  3.78s/batch, loss=0.868]"
          ]
        },
        {
          "name": "stdout",
          "output_type": "stream",
          "text": [
            "Epoch [3], Step [1800], Loss: 0.8679\n"
          ]
        },
        {
          "name": "stderr",
          "output_type": "stream",
          "text": [
            "Epoch 3/3:  85%|████████▍ | 1900/2245 [2:04:24<22:03,  3.83s/batch, loss=0.87]"
          ]
        },
        {
          "name": "stdout",
          "output_type": "stream",
          "text": [
            "Epoch [3], Step [1900], Loss: 0.8699\n"
          ]
        },
        {
          "name": "stderr",
          "output_type": "stream",
          "text": [
            "Epoch 3/3:  89%|████████▉ | 2000/2245 [2:10:54<15:43,  3.85s/batch, loss=0.878]"
          ]
        },
        {
          "name": "stdout",
          "output_type": "stream",
          "text": [
            "Epoch [3], Step [2000], Loss: 0.8779\n"
          ]
        },
        {
          "name": "stderr",
          "output_type": "stream",
          "text": [
            "Epoch 3/3:  94%|█████████▎| 2100/2245 [2:17:26<09:09,  3.79s/batch, loss=0.879]"
          ]
        },
        {
          "name": "stdout",
          "output_type": "stream",
          "text": [
            "Epoch [3], Step [2100], Loss: 0.8790\n"
          ]
        },
        {
          "name": "stderr",
          "output_type": "stream",
          "text": [
            "Epoch 3/3:  98%|█████████▊| 2200/2245 [2:23:57<02:50,  3.80s/batch, loss=0.882]"
          ]
        },
        {
          "name": "stdout",
          "output_type": "stream",
          "text": [
            "Epoch [3], Step [2200], Loss: 0.8815\n"
          ]
        },
        {
          "name": "stderr",
          "output_type": "stream",
          "text": [
            "Epoch 3/3: 100%|██████████| 2245/2245 [2:26:53<00:00,  3.93s/batch, loss=0.88]\n"
          ]
        },
        {
          "name": "stdout",
          "output_type": "stream",
          "text": [
            "Model saved to models/vgg_19_PACS_TASK2.pth\n"
          ]
        }
      ],
      "source": [
        "model.train()\n",
        "num_epochs = 3\n",
        "\n",
        "for epoch in range(num_epochs):\n",
        "    running_loss = 0.0\n",
        "    with tqdm(total=len(trainloader), desc=f'Epoch {epoch + 1}/{num_epochs}', unit='batch') as pbar:\n",
        "        for i, (images, labels) in enumerate(trainloader):\n",
        "            images, labels = images.to(device), labels.to(device)\n",
        "\n",
        "            optimizer.zero_grad() \n",
        "\n",
        "            outputs = model(images)\n",
        "            loss = criterion(outputs, labels)\n",
        "\n",
        "            loss.backward()  \n",
        "            optimizer.step()\n",
        "\n",
        "            running_loss += loss.item()\n",
        "            pbar.set_postfix(loss=running_loss / (i + 1))\n",
        "            pbar.update(1) \n",
        "\n",
        "            if (i + 1) % 100 == 0:\n",
        "                print(f'Epoch [{epoch + 1}], Step [{i + 1}], Loss: {running_loss / (i + 1):.4f}')\n",
        "\n",
        "\n",
        "save_path = \"models/vgg_19_PACS_TASK2.pth\"\n",
        "os.makedirs(os.path.dirname(save_path), exist_ok=True)\n",
        "torch.save(model.state_dict(), save_path) \n",
        "print(f'Model saved to {save_path}')\n"
      ]
    },
    {
      "cell_type": "markdown",
      "metadata": {
        "id": "n4LUzIZ_4zXX"
      },
      "source": [
        "Running the Training Loop"
      ]
    },
    {
      "cell_type": "markdown",
      "metadata": {
        "id": "UmiR-nT04zXY"
      },
      "source": [
        "Evaluate the VGG model. See how Well the Model performs on an Out of Domain Dataset like PACS. It Represents A covariate Shift so a drop in Accuracy is expected."
      ]
    },
    {
      "cell_type": "code",
      "execution_count": 18,
      "metadata": {
        "colab": {
          "base_uri": "https://localhost:8080/"
        },
        "id": "WON3exIV4zXY",
        "outputId": "12af9dc6-16bc-4e0e-9eb5-d10ee8edb32c"
      },
      "outputs": [
        {
          "name": "stderr",
          "output_type": "stream",
          "text": [
            "\r  0%|          | 0/254 [00:00<?, ?it/s]<ipython-input-14-caa64f65a0af>:13: DeprecationWarning: Conversion of an array with ndim > 0 to a scalar is deprecated, and will error in future. Ensure you extract a single element from your array before performing this operation. (Deprecated NumPy 1.25.)\n",
            "  label = int(self.ds['labels'][idx].numpy())  # Convert label to int\n",
            "<ipython-input-14-caa64f65a0af>:13: DeprecationWarning: Conversion of an array with ndim > 0 to a scalar is deprecated, and will error in future. Ensure you extract a single element from your array before performing this operation. (Deprecated NumPy 1.25.)\n",
            "  label = int(self.ds['labels'][idx].numpy())  # Convert label to int\n",
            "<ipython-input-14-caa64f65a0af>:13: DeprecationWarning: Conversion of an array with ndim > 0 to a scalar is deprecated, and will error in future. Ensure you extract a single element from your array before performing this operation. (Deprecated NumPy 1.25.)\n",
            "  label = int(self.ds['labels'][idx].numpy())  # Convert label to int\n",
            "<ipython-input-14-caa64f65a0af>:13: DeprecationWarning: Conversion of an array with ndim > 0 to a scalar is deprecated, and will error in future. Ensure you extract a single element from your array before performing this operation. (Deprecated NumPy 1.25.)\n",
            "  label = int(self.ds['labels'][idx].numpy())  # Convert label to int\n",
            "100%|██████████| 254/254 [14:20<00:00,  3.39s/it]"
          ]
        },
        {
          "name": "stdout",
          "output_type": "stream",
          "text": [
            "Accuracy on PACS Validation Set: 78.01%\n"
          ]
        },
        {
          "name": "stderr",
          "output_type": "stream",
          "text": [
            "\n"
          ]
        }
      ],
      "source": [
        "val_dataset = PACSDataset(val_dataset, transform=transform)\n",
        "valloader = DataLoader(val_dataset, batch_size=4, shuffle=False, num_workers=4)\n",
        "\n",
        "model.eval()\n",
        "correct = 0\n",
        "total = 0\n",
        "with torch.no_grad():\n",
        "    for images, labels in tqdm(valloader):\n",
        "        images, labels = images.to(device), labels.to(device)\n",
        "        outputs = model(images)\n",
        "        _, predicted = torch.max(outputs, 1)\n",
        "        total += labels.size(0)\n",
        "        correct += (predicted == labels).sum().item()\n",
        "\n",
        "PACS_Accuracy = 100 * correct / total\n",
        "\n",
        "print(f'Accuracy on PACS Validation Set: {100 * correct / total:.2f}%')"
      ]
    }
  ],
  "metadata": {
    "colab": {
      "provenance": []
    },
    "kernelspec": {
      "display_name": "Python 3",
      "language": "python",
      "name": "python3"
    },
    "language_info": {
      "codemirror_mode": {
        "name": "ipython",
        "version": 3
      },
      "file_extension": ".py",
      "mimetype": "text/x-python",
      "name": "python",
      "nbconvert_exporter": "python",
      "pygments_lexer": "ipython3",
      "version": "3.11.0"
    }
  },
  "nbformat": 4,
  "nbformat_minor": 0
}
