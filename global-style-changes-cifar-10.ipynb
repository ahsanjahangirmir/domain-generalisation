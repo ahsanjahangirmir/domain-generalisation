{
  "nbformat": 4,
  "nbformat_minor": 0,
  "metadata": {
    "colab": {
      "provenance": []
    },
    "kernelspec": {
      "name": "python3",
      "display_name": "Python 3"
    },
    "language_info": {
      "name": "python"
    }
  },
  "cells": [
    {
      "cell_type": "markdown",
      "source": [
        "This code efficiently applies the artistic style of starry night by van gogh to a random selection of 100 images from the CIFAR-10 dataset, leveraging the capabilities of the VGG19 model for feature extraction and optimization. The resulting styled images are saved for further analysis or use."
      ],
      "metadata": {
        "id": "NzdSk6qaq1R4"
      }
    },
    {
      "cell_type": "code",
      "execution_count": null,
      "metadata": {
        "id": "BlYMnNQUpjO-"
      },
      "outputs": [],
      "source": [
        "import torch\n",
        "import torchvision\n",
        "import torchvision.transforms as transforms\n",
        "from torch.utils.data import DataLoader, Subset\n",
        "import os\n",
        "from PIL import Image\n",
        "import torchvision.models as models\n",
        "from torchvision.utils import save_image\n",
        "from tqdm import tqdm\n",
        "import torch.optim as optim\n",
        "\n",
        "transform = transforms.Compose([\n",
        "    transforms.Resize((224, 224)),\n",
        "    transforms.ToTensor()\n",
        "])\n",
        "\n",
        "cifar10_dataset = torchvision.datasets.CIFAR10(root='./data', train=False, download=True, transform=transform)\n",
        "\n",
        "subset_100_indices = torch.randperm(len(cifar10_dataset))[:100]  # Randomly select 100 images\n",
        "subset_9900_indices = torch.randperm(len(cifar10_dataset))[100:]\n",
        "\n",
        "subset_100 = Subset(cifar10_dataset, subset_100_indices)\n",
        "subset_9900 = Subset(cifar10_dataset, subset_9900_indices)\n",
        "\n",
        "subset_100_loader = DataLoader(subset_100, batch_size=1, shuffle=False)\n",
        "subset_9900_loader = DataLoader(subset_9900, batch_size=1, shuffle=False)\n",
        "\n",
        "vgg = models.vgg19(pretrained=True).features\n",
        "for param in vgg.parameters():\n",
        "    param.requires_grad = False\n",
        "\n",
        "device = torch.device(\"cuda\" if torch.cuda.is_available() else \"cpu\")\n",
        "vgg.to(device)\n",
        "\n",
        "\n",
        "style_image_path = \"./van.jpg\"  # starry night by van gogh styles introduced\n",
        "style_image = Image.open(style_image_path).convert(\"RGB\")\n",
        "style_transform = transforms.Compose([\n",
        "    transforms.Resize((224, 224)),\n",
        "    transforms.ToTensor()\n",
        "])\n",
        "style_image = style_transform(style_image).unsqueeze(0).to(device)\n",
        "\n",
        "def gram_matrix(tensor):\n",
        "    _, d, h, w = tensor.size()\n",
        "    tensor = tensor.view(d, h * w)\n",
        "    gram = torch.mm(tensor, tensor.t())\n",
        "    return gram\n",
        "\n",
        "\n",
        "def style_transfer(content_image, style_image, vgg, content_weight=1e5, style_weight=1e10, num_steps=300):\n",
        "    content_image = content_image.clone().requires_grad_(True).to(device)\n",
        "    optimizer = optim.Adam([content_image], lr=0.003)\n",
        "\n",
        "    for step in range(num_steps):\n",
        "        optimizer.zero_grad()\n",
        "\n",
        "        content_features = vgg(content_image)\n",
        "        style_features = vgg(style_image)\n",
        "        content_loss = torch.mean((content_features - style_features)**2)\n",
        "\n",
        "        style_loss = torch.mean((gram_matrix(content_features) - gram_matrix(style_features))**2)\n",
        "\n",
        "        loss = content_weight * content_loss + style_weight * style_loss\n",
        "\n",
        "        loss.backward()\n",
        "        optimizer.step()\n",
        "\n",
        "        if step % 50 == 0:\n",
        "            print(f\"Step [{step}/{num_steps}], Loss: {loss.item()}\")\n",
        "\n",
        "    return content_image\n",
        "\n",
        "output_dir = './cifar10_styled_100/'\n",
        "os.makedirs(output_dir, exist_ok=True)\n",
        "\n",
        "for i, (content_image, label) in enumerate(tqdm(subset_100_loader, desc=\"Applying Style Transfer\")):\n",
        "\n",
        "    content_image = content_image.to(device)\n",
        "    styled_image = style_transfer(content_image, style_image, vgg)\n",
        "    save_image(styled_image, os.path.join(output_dir, f\"styled_image_{label.item()}_{i}.png\"))\n",
        "\n",
        "print(\"Style transfer completed on 100 images.\")\n"
      ]
    }
  ]
}