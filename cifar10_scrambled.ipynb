{
  "cells": [
    {
      "cell_type": "markdown",
      "metadata": {},
      "source": [
        "# Locality Biases C: Scrambling \n",
        "\n",
        "In this notebook, we investigate disruptions in the global structure of images through random permutations in images patches and how they influence the classification accuracy of each neural net architecture. The goal is to create a manipulation of the CIFAR-10 test set which applied 4x4 patch scrambling to each 32x32 image in the testing set. \n",
        "\n",
        "The key idea here is that we want to gauge the performance drop of each model from the clean test set as they attempt to classify these scrambled images by focusing on the global arrangement of the patches rather than local image details, since the local cues will no longer be as reliable due to the scrambling. The hypothesis here is that models that rely heavily on local image features may struggle with the scrambled test set more than the models that can recognize more abstract and global patterns."
      ]
    },
    {
      "cell_type": "markdown",
      "metadata": {},
      "source": [
        "### Setup/Imports"
      ]
    },
    {
      "cell_type": "code",
      "execution_count": 1,
      "metadata": {
        "id": "LkS7eJVLJ5e4"
      },
      "outputs": [],
      "source": [
        "import torch\n",
        "import torchvision\n",
        "import torchvision.transforms as transforms\n",
        "import numpy as np\n",
        "import matplotlib.pyplot as plt\n",
        "import os\n",
        "import shutil\n",
        "from google.colab import files"
      ]
    },
    {
      "cell_type": "code",
      "execution_count": 2,
      "metadata": {
        "colab": {
          "base_uri": "https://localhost:8080/"
        },
        "id": "TlYTAWfMKGkx",
        "outputId": "f2fe2f6d-5536-49f9-f477-abff0fb6ba5f"
      },
      "outputs": [
        {
          "name": "stdout",
          "output_type": "stream",
          "text": [
            "Downloading https://www.cs.toronto.edu/~kriz/cifar-10-python.tar.gz to ./data/cifar-10-python.tar.gz\n"
          ]
        },
        {
          "name": "stderr",
          "output_type": "stream",
          "text": [
            "100%|██████████| 170498071/170498071 [00:05<00:00, 29494142.94it/s]\n"
          ]
        },
        {
          "name": "stdout",
          "output_type": "stream",
          "text": [
            "Extracting ./data/cifar-10-python.tar.gz to ./data\n",
            "Test set size: torch.Size([10000, 3, 32, 32])\n"
          ]
        }
      ],
      "source": [
        "transform = transforms.Compose([transforms.ToTensor()])\n",
        "\n",
        "test_set = torchvision.datasets.CIFAR10(root='./data', train=False, download=True, transform=transform)\n",
        "\n",
        "test_loader = torch.utils.data.DataLoader(test_set, batch_size=10000, shuffle=False)\n",
        "\n",
        "test_images, test_labels = next(iter(test_loader))\n",
        "\n",
        "print(f'Test set size: {test_images.shape}') "
      ]
    },
    {
      "cell_type": "markdown",
      "metadata": {},
      "source": [
        "### Scrambling \n",
        "\n",
        "We now define the `scramble_image` method to scramble the images by dividing them into 4x4 patches, randomly shuffling the images, and finally reconstructing the scrambled imaged from the shuffled patch sequence."
      ]
    },
    {
      "cell_type": "code",
      "execution_count": 3,
      "metadata": {
        "colab": {
          "base_uri": "https://localhost:8080/"
        },
        "id": "yXAOFBf_KIwe",
        "outputId": "ea003009-f465-4f2c-f871-ac75c96c6280"
      },
      "outputs": [
        {
          "name": "stdout",
          "output_type": "stream",
          "text": [
            "Scrambling complete.\n"
          ]
        }
      ],
      "source": [
        "def scramble_image(image, patch_size=4):\n",
        "\n",
        "    _, height, width = image.shape\n",
        "\n",
        "    # extracting 4x4 patches from the image\n",
        "    patches = []\n",
        "\n",
        "    for i in range(0, height, patch_size):\n",
        "\n",
        "        for j in range(0, width, patch_size):\n",
        "\n",
        "            patches.append(image[:, i:i+patch_size, j:j+patch_size])\n",
        "\n",
        "    # shuffling the 4x4 patches\n",
        "    np.random.shuffle(patches)\n",
        "\n",
        "    # scrambled image reconstruction\n",
        "    scrambled_image = torch.zeros_like(image)\n",
        "    patch_idx = 0\n",
        "    \n",
        "    for i in range(0, height, patch_size):\n",
        "    \n",
        "        for j in range(0, width, patch_size):\n",
        "    \n",
        "            scrambled_image[:, i:i+patch_size, j:j+patch_size] = patches[patch_idx]\n",
        "            patch_idx += 1\n",
        "\n",
        "    return scrambled_image\n",
        "\n",
        "scrambled_images = torch.zeros_like(test_images)\n",
        "\n",
        "for i in range(test_images.shape[0]):\n",
        "\n",
        "    scrambled_images[i] = scramble_image(test_images[i])\n",
        "\n",
        "print(\"Scrambling complete.\")\n"
      ]
    },
    {
      "cell_type": "markdown",
      "metadata": {},
      "source": [
        "Visualization"
      ]
    },
    {
      "cell_type": "code",
      "execution_count": 4,
      "metadata": {
        "colab": {
          "base_uri": "https://localhost:8080/",
          "height": 341
        },
        "id": "Sm1qHoCIKLGD",
        "outputId": "dea2f241-bdad-4469-ad11-3990af279bbc"
      },
      "outputs": [
        {
          "data": {
            "image/png": "[encoded data removed]",
            "text/plain": [
              "<Figure size 800x400 with 2 Axes>"
            ]
          },
          "metadata": {},
          "output_type": "display_data"
        }
      ],
      "source": [
        "def imshow(clean_img, scrambled_img):\n",
        "\n",
        "    _, axs = plt.subplots(1, 2, figsize=(8, 4))  \n",
        "\n",
        "    npimg_clean = clean_img.numpy()\n",
        "    axs[0].imshow(np.transpose(npimg_clean, (1, 2, 0)))\n",
        "    axs[0].set_title(\"Clean Image\")\n",
        "\n",
        "    npimg_scrambled = scrambled_img.numpy()\n",
        "    axs[1].imshow(np.transpose(npimg_scrambled, (1, 2, 0)))\n",
        "    axs[1].set_title(\"Scrambled Image\")\n",
        "\n",
        "    for ax in axs:\n",
        "        ax.axis('off')\n",
        "\n",
        "    plt.show()\n",
        "\n",
        "clean_image = test_images[0]\n",
        "scrambled_image = scrambled_images[0]\n",
        "\n",
        "imshow(clean_image, scrambled_image, titles=[\"Clean Image\", \"Scrambled Image\"])\n"
      ]
    },
    {
      "cell_type": "markdown",
      "metadata": {},
      "source": [
        "### Optional: Export Scrambled Test Set As Zip"
      ]
    },
    {
      "cell_type": "code",
      "execution_count": 5,
      "metadata": {
        "colab": {
          "base_uri": "https://localhost:8080/",
          "height": 35
        },
        "id": "zq6yWONKKPnQ",
        "outputId": "6413f42e-1a41-4ce8-e6fa-54ad54229bc1"
      },
      "outputs": [
        {
          "name": "stdout",
          "output_type": "stream",
          "text": [
            "All scrambled images saved in scrambled_cifar10_test\n"
          ]
        },
        {
          "data": {
            "application/javascript": "\n    async function download(id, filename, size) {\n      if (!google.colab.kernel.accessAllowed) {\n        return;\n      }\n      const div = document.createElement('div');\n      const label = document.createElement('label');\n      label.textContent = `Downloading \"${filename}\": `;\n      div.appendChild(label);\n      const progress = document.createElement('progress');\n      progress.max = size;\n      div.appendChild(progress);\n      document.body.appendChild(div);\n\n      const buffers = [];\n      let downloaded = 0;\n\n      const channel = await google.colab.kernel.comms.open(id);\n      // Send a message to notify the kernel that we're ready.\n      channel.send({})\n\n      for await (const message of channel.messages) {\n        // Send a message to notify the kernel that we're ready.\n        channel.send({})\n        if (message.buffers) {\n          for (const buffer of message.buffers) {\n            buffers.push(buffer);\n            downloaded += buffer.byteLength;\n            progress.value = downloaded;\n          }\n        }\n      }\n      const blob = new Blob(buffers, {type: 'application/binary'});\n      const a = document.createElement('a');\n      a.href = window.URL.createObjectURL(blob);\n      a.download = filename;\n      div.appendChild(a);\n      a.click();\n      div.remove();\n    }\n  ",
            "text/plain": [
              "<IPython.core.display.Javascript object>"
            ]
          },
          "metadata": {},
          "output_type": "display_data"
        },
        {
          "data": {
            "application/javascript": "download(\"download_534a35e2-d467-466d-8900-7fe8e6d4980c\", \"scrambled_cifar10_test.zip\", 29911301)",
            "text/plain": [
              "<IPython.core.display.Javascript object>"
            ]
          },
          "metadata": {},
          "output_type": "display_data"
        }
      ],
      "source": [
        "\n",
        "output_dir = 'scrambled_cifar10_test'\n",
        "\n",
        "if not os.path.exists(output_dir):\n",
        "    os.makedirs(output_dir)\n",
        "\n",
        "def save_images(scrambled_images, labels, directory):\n",
        "\n",
        "    classes = test_set.classes\n",
        "\n",
        "    for idx, (img, label) in enumerate(zip(scrambled_images, labels)):\n",
        "\n",
        "        class_name = classes[label]\n",
        "        class_dir = os.path.join(directory, class_name)\n",
        "\n",
        "        if not os.path.exists(class_dir):\n",
        "            os.makedirs(class_dir)\n",
        "\n",
        "        img_np = np.transpose(img.numpy(), (1, 2, 0))\n",
        "\n",
        "        image_path = os.path.join(class_dir, f'{idx}.png')\n",
        "\n",
        "        plt.imsave(image_path, img_np)\n",
        "\n",
        "    print(f\"All scrambled images saved in {directory}\")\n",
        "\n",
        "save_images(scrambled_images, test_labels, output_dir)\n",
        "shutil.make_archive(output_dir, 'zip', output_dir)\n",
        "files.download(f'{output_dir}.zip')\n"
      ]
    }
  ],
  "metadata": {
    "accelerator": "GPU",
    "colab": {
      "gpuType": "T4",
      "provenance": []
    },
    "kernelspec": {
      "display_name": "Python 3",
      "name": "python3"
    },
    "language_info": {
      "name": "python"
    }
  },
  "nbformat": 4,
  "nbformat_minor": 0
}
