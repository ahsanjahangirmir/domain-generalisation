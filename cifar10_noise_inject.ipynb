{
  "cells": [
    {
      "cell_type": "markdown",
      "metadata": {},
      "source": [
        "# Locality Biases A: Localized Noise Injection \n",
        "\n",
        "We have previously evaluated the accuracy of our finetuned discriminative models and contrastive models on the test set of the CIFAR-10 dataset. Now we aim to understand the reliance of the models on local and global information. In this notebook, we develop a noise-injected manipulation of the CIFAR-10 test set to investigate how localized noise affects model performance. The goal is to inject Gaussian noise into a small 8x8 patch in each of the images to simulate localized corruption in the images. For the sake of fairness in evaluation, we apply the noise in consistent manner across all images in the test set, i.e., the same noise pattern and location are used while injecting noise in all the images. \n",
        "\n",
        "**Since we have already obtained the model accuracies on the clean test set, the drop in performance of each model on the noised test-set prepared in this notebook will indicate how robust the models are to localized noise.**"
      ]
    },
    {
      "cell_type": "markdown",
      "metadata": {},
      "source": [
        "### Setup/Imports"
      ]
    },
    {
      "cell_type": "code",
      "execution_count": 1,
      "metadata": {
        "id": "AuHruoo4-xcM"
      },
      "outputs": [],
      "source": [
        "import torch\n",
        "import torchvision\n",
        "import torchvision.transforms as transforms\n",
        "import numpy as np\n",
        "import matplotlib.pyplot as plt"
      ]
    },
    {
      "cell_type": "code",
      "execution_count": 2,
      "metadata": {
        "colab": {
          "base_uri": "https://localhost:8080/"
        },
        "id": "sLGPFIGMAdTJ",
        "outputId": "4b707afa-5e1e-4c69-c296-8fc6f7fd486c"
      },
      "outputs": [
        {
          "name": "stdout",
          "output_type": "stream",
          "text": [
            "Downloading https://www.cs.toronto.edu/~kriz/cifar-10-python.tar.gz to ./data/cifar-10-python.tar.gz\n"
          ]
        },
        {
          "name": "stderr",
          "output_type": "stream",
          "text": [
            "100%|██████████| 170498071/170498071 [00:12<00:00, 13248898.70it/s]\n"
          ]
        },
        {
          "name": "stdout",
          "output_type": "stream",
          "text": [
            "Extracting ./data/cifar-10-python.tar.gz to ./data\n",
            "Test set size: torch.Size([10000, 3, 32, 32])\n"
          ]
        }
      ],
      "source": [
        "transform = transforms.Compose([transforms.ToTensor()])\n",
        "\n",
        "test_set = torchvision.datasets.CIFAR10(root='./data', train=False, download=True, transform=transform)\n",
        "\n",
        "test_loader = torch.utils.data.DataLoader(test_set, batch_size=10000, shuffle=False)\n",
        "\n",
        "test_images, test_labels = next(iter(test_loader))\n",
        "\n",
        "print(f'Test set size: {test_images.shape}')"
      ]
    },
    {
      "cell_type": "markdown",
      "metadata": {},
      "source": [
        "### Noise Injection"
      ]
    },
    {
      "cell_type": "markdown",
      "metadata": {},
      "source": [
        "Now that we have loaded all 10,000 images from the test set (32x32), we define the noise injection logic in the `apply_localized_noise` method. Gaussian noise is generated with mean = 0 and std dev = 0.5 and applied to an 8x8 random patch within each image. All images have the same random noise patch applied to them."
      ]
    },
    {
      "cell_type": "code",
      "execution_count": 3,
      "metadata": {
        "colab": {
          "base_uri": "https://localhost:8080/"
        },
        "id": "HTz8WY99AvcG",
        "outputId": "8b97a96e-3742-4811-a47a-3e94e4375e59"
      },
      "outputs": [
        {
          "name": "stdout",
          "output_type": "stream",
          "text": [
            "Localized noise applied to patch at (x=8, y=7)\n"
          ]
        }
      ],
      "source": [
        "def apply_localized_noise(images, patch_size=8, noise_mean=0, noise_std=0.5):\n",
        "\n",
        "    batch_size, channels, height, width = images.shape\n",
        "\n",
        "    patch_x = np.random.randint(0, height - patch_size) # randomly choosing a top-left corner for the 8x8 patch\n",
        "    patch_y = np.random.randint(0, width - patch_size)\n",
        "\n",
        "    noise = torch.randn((batch_size, channels, patch_size, patch_size)) * noise_std + noise_mean\n",
        "\n",
        "    images[:, :, patch_x:patch_x+patch_size, patch_y:patch_y+patch_size] += noise # applying noise to the same 8x8 patch in all images\n",
        "    images = torch.clamp(images, 0, 1)\n",
        "\n",
        "    return images, (patch_x, patch_y)\n",
        "\n",
        "noised_images, patch_location = apply_localized_noise(test_images.clone())\n",
        "print(f'Localized noise applied to patch at (x={patch_location[0]}, y={patch_location[1]})')"
      ]
    },
    {
      "cell_type": "code",
      "execution_count": 5,
      "metadata": {
        "id": "mQUVnPztA0bs"
      },
      "outputs": [],
      "source": [
        "def imshow(clean_img, noisy_img):\n",
        "\n",
        "    _, axs = plt.subplots(1, 2, figsize=(8, 4))\n",
        "\n",
        "    npimg_clean = clean_img.numpy()\n",
        "    axs[0].imshow(np.transpose(npimg_clean, (1, 2, 0)))\n",
        "    axs[0].set_title(\"Clean Image\")\n",
        "\n",
        "    npimg_noisy = noisy_img.numpy()\n",
        "    axs[1].imshow(np.transpose(npimg_noisy, (1, 2, 0)))\n",
        "    axs[1].set_title(\"Noisy Image\")\n",
        "\n",
        "    for ax in axs:\n",
        "        ax.axis('off')\n",
        "\n",
        "    plt.show()"
      ]
    },
    {
      "cell_type": "code",
      "execution_count": 6,
      "metadata": {
        "colab": {
          "base_uri": "https://localhost:8080/",
          "height": 341
        },
        "id": "OFVrzIsgC_X-",
        "outputId": "64533065-1f12-4c54-c4e0-dcc5b95273cc"
      },
      "outputs": [
        {
          "data": {
            "image/png": "[encoded data removed]",
            "text/plain": [
              "<Figure size 800x400 with 2 Axes>"
            ]
          },
          "metadata": {},
          "output_type": "display_data"
        }
      ],
      "source": [
        "clean_image = test_images[0]\n",
        "noisy_image = noised_images[0]\n",
        "\n",
        "imshow(clean_image, noisy_image)"
      ]
    },
    {
      "cell_type": "markdown",
      "metadata": {},
      "source": [
        "### Noised Dataset Definition"
      ]
    },
    {
      "cell_type": "code",
      "execution_count": 7,
      "metadata": {
        "colab": {
          "base_uri": "https://localhost:8080/"
        },
        "id": "BOYUH7viA2ev",
        "outputId": "73f265fe-a78d-49a6-8ee1-04352b83d1b6"
      },
      "outputs": [
        {
          "name": "stdout",
          "output_type": "stream",
          "text": [
            "Noised CIFAR-10 test set created successfully!\n"
          ]
        }
      ],
      "source": [
        "class NoisedCIFAR10Dataset(torch.utils.data.Dataset):\n",
        "\n",
        "    def __init__(self, original_dataset, noised_images):\n",
        "\n",
        "        self.original_dataset = original_dataset\n",
        "        self.noised_images = noised_images\n",
        "\n",
        "    def __len__(self):\n",
        "\n",
        "        return len(self.original_dataset)\n",
        "\n",
        "    def __getitem__(self, idx):\n",
        "\n",
        "        image = self.noised_images[idx]\n",
        "        label = self.original_dataset.targets[idx]\n",
        "\n",
        "        return image, label\n",
        "\n",
        "noised_CIFAR_10_test_set = NoisedCIFAR10Dataset(test_set, noised_images)\n",
        "noised_test_loader = torch.utils.data.DataLoader(noised_CIFAR_10_test_set, batch_size=100, shuffle=False)\n",
        "\n",
        "print(\"Noised CIFAR-10 test set created successfully!\")"
      ]
    },
    {
      "cell_type": "markdown",
      "metadata": {},
      "source": [
        "### Optional: Export Noised Dataset As Zip"
      ]
    },
    {
      "cell_type": "code",
      "execution_count": 8,
      "metadata": {
        "colab": {
          "base_uri": "https://localhost:8080/",
          "height": 35
        },
        "id": "9jU21GFxB3C_",
        "outputId": "89393df9-1e1b-4df4-bcac-6be50313ef40"
      },
      "outputs": [
        {
          "name": "stdout",
          "output_type": "stream",
          "text": [
            "All images saved in noised_cifar10_test\n"
          ]
        },
        {
          "data": {
            "application/javascript": "\n    async function download(id, filename, size) {\n      if (!google.colab.kernel.accessAllowed) {\n        return;\n      }\n      const div = document.createElement('div');\n      const label = document.createElement('label');\n      label.textContent = `Downloading \"${filename}\": `;\n      div.appendChild(label);\n      const progress = document.createElement('progress');\n      progress.max = size;\n      div.appendChild(progress);\n      document.body.appendChild(div);\n\n      const buffers = [];\n      let downloaded = 0;\n\n      const channel = await google.colab.kernel.comms.open(id);\n      // Send a message to notify the kernel that we're ready.\n      channel.send({})\n\n      for await (const message of channel.messages) {\n        // Send a message to notify the kernel that we're ready.\n        channel.send({})\n        if (message.buffers) {\n          for (const buffer of message.buffers) {\n            buffers.push(buffer);\n            downloaded += buffer.byteLength;\n            progress.value = downloaded;\n          }\n        }\n      }\n      const blob = new Blob(buffers, {type: 'application/binary'});\n      const a = document.createElement('a');\n      a.href = window.URL.createObjectURL(blob);\n      a.download = filename;\n      div.appendChild(a);\n      a.click();\n      div.remove();\n    }\n  ",
            "text/plain": [
              "<IPython.core.display.Javascript object>"
            ]
          },
          "metadata": {},
          "output_type": "display_data"
        },
        {
          "data": {
            "application/javascript": "download(\"download_9d83cf1d-caf5-4d05-a0b7-a1f04b3a9722\", \"noised_cifar10_test.zip\", 28934224)",
            "text/plain": [
              "<IPython.core.display.Javascript object>"
            ]
          },
          "metadata": {},
          "output_type": "display_data"
        }
      ],
      "source": [
        "import os\n",
        "import shutil\n",
        "from google.colab import files\n",
        "\n",
        "output_dir = 'noised_cifar10_test'\n",
        "\n",
        "if not os.path.exists(output_dir):\n",
        "    os.makedirs(output_dir)\n",
        "\n",
        "def save_images(noised_images, labels, directory):\n",
        "\n",
        "    classes = test_set.classes\n",
        "\n",
        "    for idx, (img, label) in enumerate(zip(noised_images, labels)):\n",
        "\n",
        "        class_name = classes[label]\n",
        "        class_dir = os.path.join(directory, class_name)\n",
        "\n",
        "        if not os.path.exists(class_dir):\n",
        "            os.makedirs(class_dir)\n",
        "\n",
        "        img_np = np.transpose(img.numpy(), (1, 2, 0))\n",
        "\n",
        "        image_path = os.path.join(class_dir, f'{idx}.png')\n",
        "\n",
        "        plt.imsave(image_path, img_np)\n",
        "\n",
        "    print(f\"All images saved in {directory}\")\n",
        "\n",
        "save_images(noised_images, test_labels, output_dir)\n",
        "shutil.make_archive(output_dir, 'zip', output_dir)\n",
        "files.download(f'{output_dir}.zip')"
      ]
    }
  ],
  "metadata": {
    "accelerator": "GPU",
    "colab": {
      "gpuType": "T4",
      "provenance": []
    },
    "kernelspec": {
      "display_name": "Python 3",
      "name": "python3"
    },
    "language_info": {
      "name": "python"
    }
  },
  "nbformat": 4,
  "nbformat_minor": 0
}
